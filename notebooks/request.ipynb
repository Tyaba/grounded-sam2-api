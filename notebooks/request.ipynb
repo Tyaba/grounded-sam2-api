{
 "cells": [
  {
   "cell_type": "code",
   "execution_count": null,
   "metadata": {},
   "outputs": [],
   "source": [
    "%cd .."
   ]
  },
  {
   "cell_type": "code",
   "execution_count": 2,
   "metadata": {},
   "outputs": [],
   "source": [
    "import base64\n",
    "import os\n",
    "from io import BytesIO\n",
    "from pathlib import Path\n",
    "from typing import Literal\n",
    "\n",
    "import google.auth.transport.requests\n",
    "import google.oauth2.id_token\n",
    "import numpy as np\n",
    "import requests\n",
    "from PIL import Image"
   ]
  },
  {
   "cell_type": "code",
   "execution_count": null,
   "metadata": {},
   "outputs": [],
   "source": [
    "def get_bearer_token(audience_url: str) -> str:\n",
    "    auth_req = google.auth.transport.requests.Request()\n",
    "    token = google.oauth2.id_token.fetch_id_token(\n",
    "        request=auth_req, audience=audience_url\n",
    "    )\n",
    "    assert isinstance(token, str)\n",
    "    return token\n",
    "\n",
    "\n",
    "def get_authorized_headers(audience_url: str) -> dict[str, str]:\n",
    "    return {\"Authorization\": f\"Bearer {get_bearer_token(audience_url)}\"}\n",
    "\n",
    "\n",
    "def pil2base64(image: Image.Image, fmt: Literal[\"PNG\", \"JPEG\"] = \"PNG\") -> str:\n",
    "    image = image.convert(\"RGBA\" if fmt == \"PNG\" else \"RGB\")\n",
    "    buffered = BytesIO()\n",
    "    image.save(buffered, format=fmt)\n",
    "    image_base64 = base64.b64encode(buffered.getvalue()).decode(\"ascii\")\n",
    "    return image_base64"
   ]
  },
  {
   "cell_type": "code",
   "execution_count": 3,
   "metadata": {},
   "outputs": [],
   "source": [
    "url = os.environ[\"GROUNDED_SAM2_URL\"]"
   ]
  },
  {
   "cell_type": "code",
   "execution_count": 4,
   "metadata": {},
   "outputs": [],
   "source": [
    "headers = get_authorized_headers(url)"
   ]
  },
  {
   "cell_type": "code",
   "execution_count": 8,
   "metadata": {},
   "outputs": [],
   "source": [
    "# post\n",
    "image_path = Path(\"tests/data/one_bottle.png\")\n",
    "image = Image.open(image_path)\n",
    "image_base64 = pil2base64(image, fmt=\"JPEG\")\n",
    "prompt = \"product.\"\n",
    "\n",
    "data = {\n",
    "    \"image\": image_base64,\n",
    "    \"text\": prompt,\n",
    "}\n",
    "segment_url = f\"{url}/segment\""
   ]
  },
  {
   "cell_type": "code",
   "execution_count": 9,
   "metadata": {},
   "outputs": [],
   "source": [
    "response = requests.post(segment_url, headers=headers, json=data, timeout=360)"
   ]
  },
  {
   "cell_type": "code",
   "execution_count": null,
   "metadata": {},
   "outputs": [],
   "source": [
    "mask_ar = np.uint8(np.array(response.json()[\"masks\"]))\n",
    "mask = Image.fromarray(mask_ar[0])\n",
    "segmented_image = Image.composite(\n",
    "    image1=image,\n",
    "    image2=Image.new(\"RGBA\", image.size),\n",
    "    mask=mask,\n",
    ")\n",
    "segmented_image.show()"
   ]
  }
 ],
 "metadata": {
  "kernelspec": {
   "display_name": ".venv",
   "language": "python",
   "name": "python3"
  },
  "language_info": {
   "codemirror_mode": {
    "name": "ipython",
    "version": 3
   },
   "file_extension": ".py",
   "mimetype": "text/x-python",
   "name": "python",
   "nbconvert_exporter": "python",
   "pygments_lexer": "ipython3",
   "version": "3.11.10"
  }
 },
 "nbformat": 4,
 "nbformat_minor": 2
}
